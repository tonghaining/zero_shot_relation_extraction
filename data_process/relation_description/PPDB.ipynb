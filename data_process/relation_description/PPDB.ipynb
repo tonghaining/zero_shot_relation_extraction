{
  "nbformat": 4,
  "nbformat_minor": 0,
  "metadata": {
    "colab": {
      "name": "PPDB",
      "version": "0.3.2",
      "provenance": [],
      "collapsed_sections": [],
      "toc_visible": true
    },
    "kernelspec": {
      "name": "python3",
      "display_name": "Python 3"
    }
  },
  "cells": [
    {
      "cell_type": "markdown",
      "metadata": {
        "id": "svWFTAxgpaHV",
        "colab_type": "text"
      },
      "source": [
        "## load relation description"
      ]
    },
    {
      "cell_type": "code",
      "metadata": {
        "id": "XZIWlh2nzLEO",
        "colab_type": "code",
        "outputId": "23ac722d-93c4-48e6-9d09-f6ca821f40aa",
        "colab": {
          "base_uri": "https://localhost:8080/",
          "height": 122
        }
      },
      "source": [
        "from google.colab import drive\n",
        "drive.mount('/content/gdrive')"
      ],
      "execution_count": 0,
      "outputs": [
        {
          "output_type": "stream",
          "text": [
            "Go to this URL in a browser: https://accounts.google.com/o/oauth2/auth?client_id=947318989803-6bn6qk8qdgf4n4g3pfee6491hc0brc4i.apps.googleusercontent.com&redirect_uri=urn%3Aietf%3Awg%3Aoauth%3A2.0%3Aoob&scope=email%20https%3A%2F%2Fwww.googleapis.com%2Fauth%2Fdocs.test%20https%3A%2F%2Fwww.googleapis.com%2Fauth%2Fdrive%20https%3A%2F%2Fwww.googleapis.com%2Fauth%2Fdrive.photos.readonly%20https%3A%2F%2Fwww.googleapis.com%2Fauth%2Fpeopleapi.readonly&response_type=code\n",
            "\n",
            "Enter your authorization code:\n",
            "··········\n",
            "Mounted at /content/gdrive\n"
          ],
          "name": "stdout"
        }
      ]
    },
    {
      "cell_type": "code",
      "metadata": {
        "id": "E8Byi5IInjqm",
        "colab_type": "code",
        "colab": {}
      },
      "source": [
        "import json\n",
        "relation_description = {}"
      ],
      "execution_count": 0,
      "outputs": []
    },
    {
      "cell_type": "code",
      "metadata": {
        "id": "H92IKmeYzLDn",
        "colab_type": "code",
        "colab": {}
      },
      "source": [
        "with open('/content/gdrive/My Drive/master_thesis/relation_descriptions.json', 'r') as f:\n",
        "  relation_description = json.load(f)\n"
      ],
      "execution_count": 0,
      "outputs": []
    },
    {
      "cell_type": "code",
      "metadata": {
        "id": "Ub63vF_EoYSw",
        "colab_type": "code",
        "outputId": "fedbf664-3c8c-46ce-dd3b-dfeb5c3f0571",
        "colab": {
          "base_uri": "https://localhost:8080/",
          "height": 34
        }
      },
      "source": [
        "len(relation_description)"
      ],
      "execution_count": 0,
      "outputs": [
        {
          "output_type": "execute_result",
          "data": {
            "text/plain": [
              "120"
            ]
          },
          "metadata": {
            "tags": []
          },
          "execution_count": 4
        }
      ]
    },
    {
      "cell_type": "code",
      "metadata": {
        "id": "ZgJmD-hINyHT",
        "colab_type": "code",
        "colab": {}
      },
      "source": [
        "for wd in ppdb_dict:\n",
        "  for rows in ppdb_dict[wd]:\n",
        "    print(rows)\n",
        "    ent = rows[2]\n",
        "    if ent == \"Equivalence\":\n",
        "      print(wd, \" FOUND: \", rows)\n",
        "      break"
      ],
      "execution_count": 0,
      "outputs": []
    },
    {
      "cell_type": "code",
      "metadata": {
        "id": "M3RY8SBnO9V8",
        "colab_type": "code",
        "outputId": "15455a55-545c-43c3-c4eb-271e88e7e51e",
        "colab": {
          "base_uri": "https://localhost:8080/",
          "height": 85
        }
      },
      "source": [
        "ppdb_dict[\"based\"]"
      ],
      "execution_count": 0,
      "outputs": [
        {
          "output_type": "execute_result",
          "data": {
            "text/plain": [
              "{'-based': ('[VBD]', 3.94227, 'ReverseEntailment'),\n",
              " 'base': ('[NNP]', 2.75831, 'Equivalence'),\n",
              " 'bases': ('[NNP]', 2.75831, 'Equivalence'),\n",
              " 'basis': ('[VBD]', 2.84031, 'Equivalence')}"
            ]
          },
          "metadata": {
            "tags": []
          },
          "execution_count": 12
        }
      ]
    },
    {
      "cell_type": "code",
      "metadata": {
        "id": "gRRXwNXfcc8K",
        "colab_type": "code",
        "outputId": "a79e0e53-71de-4060-b311-3a8bc249a131",
        "colab": {
          "base_uri": "https://localhost:8080/",
          "height": 1000
        }
      },
      "source": [
        "ppdb_dict[\"based on\"]"
      ],
      "execution_count": 0,
      "outputs": [
        {
          "output_type": "execute_result",
          "data": {
            "text/plain": [
              "{', and on the basis of': ('[X]', 4.12471, 'ReverseEntailment'),\n",
              " ', built on': ('[X]', 3.58829, 'ReverseEntailment'),\n",
              " ', on the basis of': ('[X]', 4.08176, 'ReverseEntailment'),\n",
              " ', on the basis of the': ('[X]', 4.11404, 'ReverseEntailment'),\n",
              " ', on the grounds': ('[X]', 3.68341, 'ReverseEntailment'),\n",
              " ', pursuant to': ('[X]', 3.6128, 'ReverseEntailment'),\n",
              " '1 based on': ('[X]', 4.18969, 'ReverseEntailment'),\n",
              " 'a basis of': ('[X]', 3.78856, 'ReverseEntailment'),\n",
              " 'and on the basis': ('[X]', 3.74632, 'ReverseEntailment'),\n",
              " 'and on the basis of': ('[X]', 3.96722, 'ReverseEntailment'),\n",
              " 'and on the basis of the': ('[X]', 4.04348, 'ReverseEntailment'),\n",
              " 'are built on': ('[VP/NP]', 3.84543, 'ReverseEntailment'),\n",
              " 'are compiled based on': ('[VP/NP]', 3.80185, 'ReverseEntailment'),\n",
              " 'are dependent on': ('[VP/NP]', 3.9701, 'ReverseEntailment'),\n",
              " 'based on sound': ('[X]', 3.98514, 'ReverseEntailment'),\n",
              " 'based on such': ('[X]', 4.09271, 'ReverseEntailment'),\n",
              " 'based on the fact': ('[VP/SBAR]', 4.19162, 'ReverseEntailment'),\n",
              " 'basis of': ('[VP/NN]', 3.77705, 'Equivalence'),\n",
              " 'basis on': ('[X]', 3.58285, 'Equivalence'),\n",
              " 'be built on': ('[VP/NP]', 3.84543, 'ReverseEntailment'),\n",
              " 'be calculated on': ('[VP/NP]', 3.84729, 'ReverseEntailment'),\n",
              " 'be founded on': ('[VP/NP]', 3.55722, 'ReverseEntailment'),\n",
              " 'been calculated on': ('[VP/NP]', 3.84729, 'ReverseEntailment'),\n",
              " 'been prepared on the basis of': ('[VP/NP]', 3.97929, 'ReverseEntailment'),\n",
              " 'calculated based on': ('[VP/NP]', 3.74635, 'ReverseEntailment'),\n",
              " 'centre on': ('[VP/NP]', 3.63186, 'ReverseEntailment'),\n",
              " 'centres on': ('[VP/NP]', 3.63186, 'ReverseEntailment'),\n",
              " 'compiled based on': ('[VP/NP]', 3.75953, 'ReverseEntailment'),\n",
              " 'determined based on': ('[VP/NP]', 3.71571, 'ReverseEntailment'),\n",
              " 'developed based on': ('[VP/NP]', 3.70874, 'ReverseEntailment'),\n",
              " 'drawn on': ('[VP/NP]', 3.5854, 'ReverseEntailment'),\n",
              " 'grounded on': ('[VP/NP]', 3.72183, 'ReverseEntailment'),\n",
              " 'is built on': ('[VP/NP]', 3.84543, 'ReverseEntailment'),\n",
              " 'is built upon': ('[VP/NP]', 3.82336, 'ReverseEntailment'),\n",
              " 'is dependent on': ('[X]', 3.73528, 'ReverseEntailment'),\n",
              " 'is dependent upon': ('[VP/NP]', 3.8964, 'ReverseEntailment'),\n",
              " 'is focused on': ('[VP/VP]', 3.83309, 'ReverseEntailment'),\n",
              " 'is founded on': ('[VP/NP]', 3.55722, 'Equivalence'),\n",
              " 'is on the basis': ('[X]', 3.76049, 'ReverseEntailment'),\n",
              " 'is on the basis of': ('[X]', 3.95142, 'ReverseEntailment'),\n",
              " 'is predicated on': ('[VP/NP]', 3.79063, 'Equivalence'),\n",
              " 'it is on the basis': ('[X]', 3.71358, 'ReverseEntailment'),\n",
              " 'it is on the basis of': ('[X]', 3.91333, 'ReverseEntailment'),\n",
              " 'on a basis': ('[X]', 3.64553, 'ReverseEntailment'),\n",
              " 'on a basis of': ('[PP/NN]', 3.6213, 'ReverseEntailment'),\n",
              " 'on the basis': ('[PP/SBAR]', 3.58642, 'Equivalence'),\n",
              " 'on the basis of a': ('[X]', 3.95391, 'ReverseEntailment'),\n",
              " 'on the basis of an': ('[X]', 4.07915, 'ReverseEntailment'),\n",
              " 'on the basis of its': ('[X]', 3.79659, 'ReverseEntailment'),\n",
              " 'on the basis of the': ('[PP/NN]', 3.89113, 'ReverseEntailment'),\n",
              " 'on the grounds of their': ('[X]', 3.60559, 'ReverseEntailment'),\n",
              " 'out on the basis': ('[X]', 3.67558, 'ReverseEntailment'),\n",
              " 'out on the basis of': ('[X]', 3.87519, 'ReverseEntailment'),\n",
              " 'premised on': ('[VP/NP]', 3.60475, 'Equivalence'),\n",
              " 'prepared based on': ('[VP/NP]', 3.84225, 'ReverseEntailment'),\n",
              " 'prepared on the basis of': ('[VP/NP]', 3.91593, 'ReverseEntailment'),\n",
              " 'prepared on the basis of the': ('[X]', 3.75738, 'ReverseEntailment'),\n",
              " 'the backbone of': ('[X]', 3.6792, 'ReverseEntailment'),\n",
              " 'the basis of a': ('[X]', 3.92314, 'ReverseEntailment'),\n",
              " 'the basis of the': ('[X]', 4.08776, 'ReverseEntailment'),\n",
              " 'the grounds of': ('[X]', 3.74584, 'ReverseEntailment'),\n",
              " 'to build on': ('[VP/NP]', 3.6811, 'ReverseEntailment'),\n",
              " 'to rely on': ('[VP/NP]', 3.59794, 'ReverseEntailment'),\n",
              " 'was built on': ('[VP/NP]', 3.84543, 'ReverseEntailment'),\n",
              " 'was founded on': ('[VP/NP]', 3.55722, 'Equivalence'),\n",
              " 'will build on': ('[VP/NP]', 3.60237, 'ReverseEntailment')}"
            ]
          },
          "metadata": {
            "tags": []
          },
          "execution_count": 13
        }
      ]
    },
    {
      "cell_type": "code",
      "metadata": {
        "id": "MJLLFvgJI632",
        "colab_type": "code",
        "colab": {}
      },
      "source": [
        "for relation in relation_description:\n",
        "  for description in relation_description[relation]:\n",
        "    print(relation, \" 's'DESCRIPTION  \", description)"
      ],
      "execution_count": 0,
      "outputs": []
    },
    {
      "cell_type": "markdown",
      "metadata": {
        "id": "xQhcg26cjQAd",
        "colab_type": "text"
      },
      "source": [
        "## download ppdb"
      ]
    },
    {
      "cell_type": "code",
      "metadata": {
        "id": "CB97Jp5jpf5B",
        "colab_type": "code",
        "outputId": "110fb0c6-8036-4b3e-f4ff-d446ce974c8b",
        "colab": {
          "base_uri": "https://localhost:8080/",
          "height": 204
        }
      },
      "source": [
        "!wget http://nlpgrid.seas.upenn.edu/PPDB/eng/ppdb-2.0-tldr.gz"
      ],
      "execution_count": 0,
      "outputs": [
        {
          "output_type": "stream",
          "text": [
            "--2019-07-15 15:50:03--  http://nlpgrid.seas.upenn.edu/PPDB/eng/ppdb-2.0-tldr.gz\n",
            "Resolving nlpgrid.seas.upenn.edu (nlpgrid.seas.upenn.edu)... 158.130.57.54\n",
            "Connecting to nlpgrid.seas.upenn.edu (nlpgrid.seas.upenn.edu)|158.130.57.54|:80... connected.\n",
            "HTTP request sent, awaiting response... 200 OK\n",
            "Length: 1782973884 (1.7G) [application/x-gzip]\n",
            "Saving to: ‘ppdb-2.0-tldr.gz’\n",
            "\n",
            "ppdb-2.0-tldr.gz    100%[===================>]   1.66G  74.2MB/s    in 17s     \n",
            "\n",
            "2019-07-15 15:50:20 (100 MB/s) - ‘ppdb-2.0-tldr.gz’ saved [1782973884/1782973884]\n",
            "\n"
          ],
          "name": "stdout"
        }
      ]
    },
    {
      "cell_type": "code",
      "metadata": {
        "id": "8NQnkV2Xp-9o",
        "colab_type": "code",
        "colab": {}
      },
      "source": [
        "!gunzip ppdb-2.0-tldr.gz"
      ],
      "execution_count": 0,
      "outputs": []
    },
    {
      "cell_type": "code",
      "metadata": {
        "id": "PIGSPqfVeA2W",
        "colab_type": "code",
        "outputId": "9dcd052e-0c7a-440c-a5be-6f6f9e5385d1",
        "colab": {
          "base_uri": "https://localhost:8080/",
          "height": 207
        }
      },
      "source": [
        "!head ppdb-2.0-tldr"
      ],
      "execution_count": 0,
      "outputs": [
        {
          "output_type": "stream",
          "text": [
            "[NN] ||| transplant ||| transplantation ||| PPDB2.0Score=5.24981 PPDB1.0Score=3.295900 -logp(LHS|e1)=0.18597 -logp(LHS|e2)=0.14031 -logp(e1|LHS)=11.83583 -logp(e1|e2)=1.80507 -logp(e1|e2,LHS)=1.46728 -logp(e2|LHS)=11.47593 -logp(e2|e1)=1.49083 -logp(e2|e1,LHS)=1.10738 AGigaSim=0.63439 Abstract=0 Adjacent=0 CharCountDiff=5 CharLogCR=0.40547 ContainsX=0 Equivalence=0.371472 Exclusion=0.000344 GlueRule=0 GoogleNgramSim=0.03067 Identity=0 Independent=0.078161 Lex(e1|e2)=9.64663 Lex(e2|e1)=59.48919 Lexical=1 LogCount=4.67283 MVLSASim=NA Monotonic=1 OtherRelated=0.372735 PhrasePenalty=1 RarityPenalty=0 ForwardEntailment=0.177287 SourceTerminalsButNoTarget=0 SourceWords=1 TargetComplexity=0.98821 TargetFormality=0.98464 TargetTerminalsButNoSource=0 TargetWords=1 UnalignedSource=0 UnalignedTarget=0 WordCountDiff=0 WordLenDiff=5.00000 WordLogCR=0 ||| 0-0 ||| OtherRelated\n",
            "[JJ] ||| <www.un.org/depts/dgacm/docs/crp/aconf212crp1/russian.pdf> ||| <www.un.org/depts/dgacm/docs/crp/aconf212crp1/arabic.pdf> ||| PPDB2.0Score=5.22098 PPDB1.0Score=9.463800 -logp(LHS|e1)=0 -logp(LHS|e2)=0 -logp(e1|LHS)=15.67499 -logp(e1|e2)=4.73190 -logp(e1|e2,LHS)=2.18813 -logp(e2|LHS)=15.67499 -logp(e2|e1)=4.73190 -logp(e2|e1,LHS)=2.18813 AGigaSim=0 Abstract=0 Adjacent=0 CharCountDiff=-1 CharLogCR=-0.01739 ContainsX=0 Equivalence=0.630569 Exclusion=0.000045 GlueRule=0 GoogleNgramSim=0 Identity=0 Independent=0.257275 Lex(e1|e2)=61.80282 Lex(e2|e1)=61.80282 Lexical=1 LogCount=1.79176 MVLSASim=NA Monotonic=1 OtherRelated=0.086572 PhrasePenalty=1 RarityPenalty=0 ForwardEntailment=0.025539 SourceTerminalsButNoTarget=0 SourceWords=1 TargetTerminalsButNoSource=0 TargetWords=1 UnalignedSource=0 UnalignedTarget=0 WordCountDiff=0 WordLenDiff=-1.00000 WordLogCR=0 ||| 0-0 ||| Equivalence\n",
            "[JJ] ||| <www.un.org/depts/dgacm/docs/crp/aconf212crp1/russian.pdf> ||| <www.un.org/depts/dgacm/docs/crp/aconf212crp1/french.pdf> ||| PPDB2.0Score=5.21828 PPDB1.0Score=9.463820 -logp(LHS|e1)=0 -logp(LHS|e2)=0 -logp(e1|LHS)=15.67499 -logp(e1|e2)=4.73191 -logp(e1|e2,LHS)=2.18812 -logp(e2|LHS)=15.67499 -logp(e2|e1)=4.73191 -logp(e2|e1,LHS)=2.18812 AGigaSim=0 Abstract=0 Adjacent=0 CharCountDiff=-1 CharLogCR=-0.01739 ContainsX=0 Equivalence=0.628765 Exclusion=0.000039 GlueRule=0 GoogleNgramSim=0 Identity=0 Independent=0.258367 Lex(e1|e2)=61.80282 Lex(e2|e1)=61.80282 Lexical=1 LogCount=1.79176 MVLSASim=NA Monotonic=1 OtherRelated=0.087278 PhrasePenalty=1 RarityPenalty=0 ForwardEntailment=0.025551 SourceTerminalsButNoTarget=0 SourceWords=1 TargetTerminalsButNoSource=0 TargetWords=1 UnalignedSource=0 UnalignedTarget=0 WordCountDiff=0 WordLenDiff=-1.00000 WordLogCR=0 ||| 0-0 ||| Equivalence\n",
            "[JJ] ||| <www.un.org/depts/dgacm/docs/crp/aconf212crp1/french.pdf> ||| <www.un.org/depts/dgacm/docs/crp/aconf212crp1/russian.pdf> ||| PPDB2.0Score=5.21462 PPDB1.0Score=9.463780 -logp(LHS|e1)=0 -logp(LHS|e2)=0 -logp(e1|LHS)=15.67499 -logp(e1|e2)=4.73189 -logp(e1|e2,LHS)=2.18812 -logp(e2|LHS)=15.67499 -logp(e2|e1)=4.73189 -logp(e2|e1,LHS)=2.18812 AGigaSim=0 Abstract=0 Adjacent=0 CharCountDiff=1 CharLogCR=0.01739 ContainsX=0 Equivalence=0.628765 Exclusion=0.000039 GlueRule=0 GoogleNgramSim=0 Identity=0 Independent=0.258367 Lex(e1|e2)=61.80282 Lex(e2|e1)=61.80282 Lexical=1 LogCount=1.79176 MVLSASim=NA Monotonic=1 OtherRelated=0.087278 PhrasePenalty=1 RarityPenalty=0 ReverseEntailment=0.025551 SourceTerminalsButNoTarget=0 SourceWords=1 TargetTerminalsButNoSource=0 TargetWords=1 UnalignedSource=0 UnalignedTarget=0 WordCountDiff=0 WordLenDiff=1.00000 WordLogCR=0 ||| 0-0 ||| Equivalence\n",
            "[JJ] ||| <www.un.org/depts/dgacm/docs/crp/aconf212crp1/chinese.pdf> ||| <www.un.org/depts/dgacm/docs/crp/aconf212crp1/arabic.pdf> ||| PPDB2.0Score=5.21153 PPDB1.0Score=9.463800 -logp(LHS|e1)=0 -logp(LHS|e2)=0 -logp(e1|LHS)=15.67499 -logp(e1|e2)=4.73190 -logp(e1|e2,LHS)=2.18813 -logp(e2|LHS)=15.67499 -logp(e2|e1)=4.73190 -logp(e2|e1,LHS)=2.18813 AGigaSim=0 Abstract=0 Adjacent=0 CharCountDiff=-1 CharLogCR=-0.01739 ContainsX=0 Equivalence=0.628815 Exclusion=0.000039 GlueRule=0 GoogleNgramSim=0 Identity=0 Independent=0.258143 Lex(e1|e2)=61.80281 Lex(e2|e1)=61.80281 Lexical=1 LogCount=1.79176 MVLSASim=NA Monotonic=1 OtherRelated=0.087507 PhrasePenalty=1 RarityPenalty=0 ForwardEntailment=0.025495 SourceTerminalsButNoTarget=0 SourceWords=1 TargetTerminalsButNoSource=0 TargetWords=1 UnalignedSource=0 UnalignedTarget=0 WordCountDiff=0 WordLenDiff=-1.00000 WordLogCR=0 ||| 0-0 ||| Equivalence\n",
            "[JJ] ||| <www.un.org/depts/dgacm/docs/crp/aconf212crp1/english.pdf> ||| <www.un.org/depts/dgacm/docs/crp/aconf212crp1/french.pdf> ||| PPDB2.0Score=5.19932 PPDB1.0Score=9.463780 -logp(LHS|e1)=0 -logp(LHS|e2)=0 -logp(e1|LHS)=15.67499 -logp(e1|e2)=4.73189 -logp(e1|e2,LHS)=2.18812 -logp(e2|LHS)=15.67499 -logp(e2|e1)=4.73189 -logp(e2|e1,LHS)=2.18812 AGigaSim=0 Abstract=0 Adjacent=0 CharCountDiff=-1 CharLogCR=-0.01739 ContainsX=0 Equivalence=0.650092 Exclusion=0.000052 GlueRule=0 GoogleNgramSim=0 Identity=0 Independent=0.245233 Lex(e1|e2)=61.92061 Lex(e2|e1)=61.92061 Lexical=1 LogCount=1.79176 MVLSASim=NA Monotonic=1 OtherRelated=0.074915 PhrasePenalty=1 RarityPenalty=0 ForwardEntailment=0.029709 SourceTerminalsButNoTarget=0 SourceWords=1 TargetTerminalsButNoSource=0 TargetWords=1 UnalignedSource=0 UnalignedTarget=0 WordCountDiff=0 WordLenDiff=-1.00000 WordLogCR=0 ||| 0-0 ||| Equivalence\n",
            "[JJ] ||| <www.un.org/depts/dgacm/docs/crp/aconf212crp1/russian.pdf> ||| <www.un.org/depts/dgacm/docs/crp/aconf212crp1/chinese.pdf> ||| PPDB2.0Score=5.19752 PPDB1.0Score=9.463780 -logp(LHS|e1)=0 -logp(LHS|e2)=0 -logp(e1|LHS)=15.67499 -logp(e1|e2)=4.73189 -logp(e1|e2,LHS)=2.18813 -logp(e2|LHS)=15.67499 -logp(e2|e1)=4.73189 -logp(e2|e1,LHS)=2.18813 AGigaSim=0 Abstract=0 Adjacent=0 CharCountDiff=0 CharLogCR=0 ContainsX=0 Equivalence=0.523790 Exclusion=0.000022 GlueRule=0 GoogleNgramSim=0 Identity=0 Independent=0.314636 Lex(e1|e2)=61.92059 Lex(e2|e1)=61.92059 Lexical=1 LogCount=1.79176 MVLSASim=NA Monotonic=1 OtherRelated=0.150490 PhrasePenalty=1 RarityPenalty=0 ForwardEntailment=0.011062 SourceTerminalsButNoTarget=0 SourceWords=1 TargetTerminalsButNoSource=0 TargetWords=1 UnalignedSource=0 UnalignedTarget=0 WordCountDiff=0 WordLenDiff=0 WordLogCR=0 ||| 0-0 ||| Equivalence\n",
            "[JJ] ||| <www.un.org/depts/dgacm/docs/crp/aconf212crp1/arabic.pdf> ||| <www.un.org/depts/dgacm/docs/crp/aconf212crp1/russian.pdf> ||| PPDB2.0Score=5.19727 PPDB1.0Score=9.463820 -logp(LHS|e1)=0 -logp(LHS|e2)=0 -logp(e1|LHS)=15.67499 -logp(e1|e2)=4.73191 -logp(e1|e2,LHS)=2.18813 -logp(e2|LHS)=15.67499 -logp(e2|e1)=4.73191 -logp(e2|e1,LHS)=2.18813 AGigaSim=0 Abstract=0 Adjacent=0 CharCountDiff=1 CharLogCR=0.01739 ContainsX=0 Equivalence=0.630569 Exclusion=0.000045 GlueRule=0 GoogleNgramSim=0 Identity=0 Independent=0.257275 Lex(e1|e2)=61.80282 Lex(e2|e1)=61.80282 Lexical=1 LogCount=1.79176 MVLSASim=NA Monotonic=1 OtherRelated=0.086572 PhrasePenalty=1 RarityPenalty=0 ReverseEntailment=0.025539 SourceTerminalsButNoTarget=0 SourceWords=1 TargetTerminalsButNoSource=0 TargetWords=1 UnalignedSource=0 UnalignedTarget=0 WordCountDiff=0 WordLenDiff=1.00000 WordLogCR=0 ||| 0-0 ||| Equivalence\n",
            "[JJ] ||| <www.un.org/depts/dgacm/docs/crp/aconf212crp1/chinese.pdf> ||| <www.un.org/depts/dgacm/docs/crp/aconf212crp1/french.pdf> ||| PPDB2.0Score=5.19707 PPDB1.0Score=9.463800 -logp(LHS|e1)=0 -logp(LHS|e2)=0 -logp(e1|LHS)=15.67499 -logp(e1|e2)=4.73190 -logp(e1|e2,LHS)=2.18813 -logp(e2|LHS)=15.67499 -logp(e2|e1)=4.73190 -logp(e2|e1,LHS)=2.18813 AGigaSim=0 Abstract=0 Adjacent=0 CharCountDiff=-1 CharLogCR=-0.01739 ContainsX=0 Equivalence=0.630569 Exclusion=0.000045 GlueRule=0 GoogleNgramSim=0 Identity=0 Independent=0.257275 Lex(e1|e2)=61.80281 Lex(e2|e1)=61.80281 Lexical=1 LogCount=1.79176 MVLSASim=NA Monotonic=1 OtherRelated=0.086572 PhrasePenalty=1 RarityPenalty=0 ForwardEntailment=0.025539 SourceTerminalsButNoTarget=0 SourceWords=1 TargetTerminalsButNoSource=0 TargetWords=1 UnalignedSource=0 UnalignedTarget=0 WordCountDiff=0 WordLenDiff=-1.00000 WordLogCR=0 ||| 0-0 ||| Equivalence\n",
            "[JJ] ||| <www.un.org/depts/dgacm/docs/crp/aconf212crp1/french.pdf> ||| <www.un.org/depts/dgacm/docs/crp/aconf212crp1/chinese.pdf> ||| PPDB2.0Score=5.19617 PPDB1.0Score=9.463860 -logp(LHS|e1)=0 -logp(LHS|e2)=0 -logp(e1|LHS)=15.67499 -logp(e1|e2)=4.73193 -logp(e1|e2,LHS)=2.18812 -logp(e2|LHS)=15.67499 -logp(e2|e1)=4.73193 -logp(e2|e1,LHS)=2.18812 AGigaSim=0 Abstract=0 Adjacent=0 CharCountDiff=1 CharLogCR=0.01739 ContainsX=0 Equivalence=0.630569 Exclusion=0.000045 GlueRule=0 GoogleNgramSim=0 Identity=0 Independent=0.257275 Lex(e1|e2)=61.80282 Lex(e2|e1)=61.80282 Lexical=1 LogCount=1.79176 MVLSASim=NA Monotonic=1 OtherRelated=0.086572 PhrasePenalty=1 RarityPenalty=0 ReverseEntailment=0.025539 SourceTerminalsButNoTarget=0 SourceWords=1 TargetTerminalsButNoSource=0 TargetWords=1 UnalignedSource=0 UnalignedTarget=0 WordCountDiff=0 WordLenDiff=1.00000 WordLogCR=0 ||| 0-0 ||| Equivalence\n"
          ],
          "name": "stdout"
        }
      ]
    },
    {
      "cell_type": "markdown",
      "metadata": {
        "id": "MlOS7NBQDenC",
        "colab_type": "text"
      },
      "source": [
        "### load ppdb to list"
      ]
    },
    {
      "cell_type": "code",
      "metadata": {
        "id": "Q876nxVKujmA",
        "colab_type": "code",
        "colab": {}
      },
      "source": [
        "ppdb = []\n",
        "\n",
        "chosen_entailment = ['Equivalence', 'ReverseEntailment', 'ForwardEntailment']\n",
        "other_entailment = []\n",
        "\n",
        "with open('ppdb-2.0-tldr', 'r') as f:\n",
        "  for l in f:\n",
        "    line = l.split(\"|||\")\n",
        "    entailment = line[-1].strip()\n",
        "    if entailment not in chosen_entailment:\n",
        "      if entailment not in other_entailment:\n",
        "        other_entailment.append(entailment)\n",
        "      continue\n",
        "    lhs = line[0].strip()\n",
        "    phase = line[1].strip()\n",
        "    paraphase = line[2].strip()\n",
        "    try:\n",
        "      ppdb2_score = eval(line[3].strip().split(\" \")[0].split(\"=\")[1])\n",
        "    except:\n",
        "      continue\n",
        "    state = (lhs, phase, paraphase, ppdb2_score, entailment)\n",
        "    ppdb.append(state)"
      ],
      "execution_count": 0,
      "outputs": []
    },
    {
      "cell_type": "code",
      "metadata": {
        "id": "GlOTG4syFNw0",
        "colab_type": "code",
        "outputId": "a461e96d-9bea-494d-a262-d9489841e6b9",
        "colab": {
          "base_uri": "https://localhost:8080/",
          "height": 34
        }
      },
      "source": [
        "other_entailment"
      ],
      "execution_count": 0,
      "outputs": [
        {
          "output_type": "execute_result",
          "data": {
            "text/plain": [
              "['OtherRelated', 'Independent', 'Exclusion']"
            ]
          },
          "metadata": {
            "tags": []
          },
          "execution_count": 9
        }
      ]
    },
    {
      "cell_type": "code",
      "metadata": {
        "id": "DbY-Io49u55j",
        "colab_type": "code",
        "outputId": "d521f8c2-e0a6-4cd1-a9f7-bebafb444a89",
        "colab": {
          "base_uri": "https://localhost:8080/",
          "height": 34
        }
      },
      "source": [
        "len(ppdb)"
      ],
      "execution_count": 0,
      "outputs": [
        {
          "output_type": "execute_result",
          "data": {
            "text/plain": [
              "4977076"
            ]
          },
          "metadata": {
            "tags": []
          },
          "execution_count": 9
        }
      ]
    },
    {
      "cell_type": "code",
      "metadata": {
        "id": "rDDKOe5iD7Ca",
        "colab_type": "code",
        "outputId": "5925f3cf-4eea-4f86-d680-14c2fffafc6e",
        "colab": {
          "base_uri": "https://localhost:8080/",
          "height": 34
        }
      },
      "source": [
        "ppdb[100200]"
      ],
      "execution_count": 0,
      "outputs": [
        {
          "output_type": "execute_result",
          "data": {
            "text/plain": [
              "('[NNP]', 'unlimited', 'unrestricted', 2.75464, 'Equivalence')"
            ]
          },
          "metadata": {
            "tags": []
          },
          "execution_count": 10
        }
      ]
    },
    {
      "cell_type": "markdown",
      "metadata": {
        "id": "rBRjlS_JDwJa",
        "colab_type": "text"
      },
      "source": [
        "### transfer ppdb list to dict"
      ]
    },
    {
      "cell_type": "code",
      "metadata": {
        "id": "31Xv3NPnYU1f",
        "colab_type": "code",
        "colab": {}
      },
      "source": [
        "ppdb_dict = {}\n",
        "\n",
        "for tp in ppdb:\n",
        "  p1 = tp[1]\n",
        "  p2 = tp[2]\n",
        "  others = (tp[0], tp[3], tp[4])\n",
        "  if p1 in ppdb_dict.keys():\n",
        "    ppdb_dict[p1][p2] = others\n",
        "  else:\n",
        "    ppdb_dict[p1]={}\n",
        "    ppdb_dict[p1][p2] = others"
      ],
      "execution_count": 0,
      "outputs": []
    },
    {
      "cell_type": "code",
      "metadata": {
        "id": "Xj26O2ecu7aH",
        "colab_type": "code",
        "outputId": "bea82a6d-e1ce-4d77-e5a6-de80997fde0e",
        "colab": {
          "base_uri": "https://localhost:8080/",
          "height": 34
        }
      },
      "source": [
        "len(ppdb_dict)"
      ],
      "execution_count": 0,
      "outputs": [
        {
          "output_type": "execute_result",
          "data": {
            "text/plain": [
              "868649"
            ]
          },
          "metadata": {
            "tags": []
          },
          "execution_count": 11
        }
      ]
    },
    {
      "cell_type": "code",
      "metadata": {
        "id": "NZcAOFYJPfdd",
        "colab_type": "code",
        "outputId": "656170e4-6b40-4005-aef2-0e968b9325a7",
        "colab": {
          "base_uri": "https://localhost:8080/",
          "height": 85
        }
      },
      "source": [
        "ppdb_dict['wife']"
      ],
      "execution_count": 0,
      "outputs": [
        {
          "output_type": "execute_result",
          "data": {
            "text/plain": [
              "{'ex-wife': ('[NN]', 2.80051, 'ReverseEntailment'),\n",
              " 'spouse': ('[NN]', 2.86243, 'ForwardEntailment'),\n",
              " 'woman': ('[RB]', 2.81832, 'ForwardEntailment'),\n",
              " 'women': ('[NN]', 3.1255, 'ForwardEntailment')}"
            ]
          },
          "metadata": {
            "tags": []
          },
          "execution_count": 14
        }
      ]
    },
    {
      "cell_type": "code",
      "metadata": {
        "id": "9WeLgI0wO6jC",
        "colab_type": "code",
        "outputId": "913478e7-40df-46ba-a857-22703efd19e9",
        "colab": {
          "base_uri": "https://localhost:8080/",
          "height": 221
        }
      },
      "source": [
        "ppdb_dict['woman']"
      ],
      "execution_count": 0,
      "outputs": [
        {
          "output_type": "execute_result",
          "data": {
            "text/plain": [
              "{'female': ('[UH]', 2.77627, 'ReverseEntailment'),\n",
              " 'girl': ('[NN]', 2.88167, 'ReverseEntailment'),\n",
              " 'lady': ('[NN]', 3.02029, 'ReverseEntailment'),\n",
              " 'many women': ('[NP]', 3.70595, 'ReverseEntailment'),\n",
              " 'men women': ('[TOP]', 3.76014, 'ReverseEntailment'),\n",
              " 'wife': ('[RB]', 2.80553, 'ReverseEntailment'),\n",
              " \"women 's issues\": ('[NP]', 3.75149, 'ReverseEntailment'),\n",
              " \"women 's lives\": ('[NP]', 3.59837, 'ReverseEntailment'),\n",
              " 'women and men': ('[NP]', 4.17704, 'ReverseEntailment'),\n",
              " 'women members': ('[NP]', 3.82372, 'ReverseEntailment'),\n",
              " 'working women': ('[NP]', 4.13175, 'ReverseEntailment'),\n",
              " 'young women': ('[NP]', 3.82458, 'ReverseEntailment')}"
            ]
          },
          "metadata": {
            "tags": []
          },
          "execution_count": 15
        }
      ]
    },
    {
      "cell_type": "markdown",
      "metadata": {
        "id": "nlHhsv5FD1Pd",
        "colab_type": "text"
      },
      "source": [
        "### sort element in dict according to ppdb2 score"
      ]
    },
    {
      "cell_type": "code",
      "metadata": {
        "id": "XDk7al6NNP7S",
        "colab_type": "code",
        "colab": {}
      },
      "source": [
        "sort_ppdb = {}\n",
        "\n",
        "for word in ppdb_dict:\n",
        "  syn_list = [(k,ppdb_dict[word][k]) for k in ppdb_dict[word]]\n",
        "  sorted_syn_list = sorted(syn_list, key=lambda x: x[1][1], reverse=True)\n",
        "  sorted_list = [a[0] for a in sorted_syn_list]\n",
        "  sort_ppdb[word] = sorted_list"
      ],
      "execution_count": 0,
      "outputs": []
    },
    {
      "cell_type": "code",
      "metadata": {
        "id": "SZS_PzOsDWiD",
        "colab_type": "code",
        "outputId": "d8a65682-4112-478b-bf9d-46a7392b909f",
        "colab": {
          "base_uri": "https://localhost:8080/",
          "height": 119
        }
      },
      "source": [
        "ppdb_dict['replaced']"
      ],
      "execution_count": 0,
      "outputs": [
        {
          "output_type": "execute_result",
          "data": {
            "text/plain": [
              "{'replace': ('[NNP]', 3.198, 'Equivalence'),\n",
              " 'replace the word': ('[VP]', 3.60615, 'ReverseEntailment'),\n",
              " 'replace the words': ('[VP]', 3.70402, 'ReverseEntailment'),\n",
              " 'substituted': ('[VBN]', 3.49128, 'Equivalence'),\n",
              " 'superseded': ('[VBD]', 3.4851, 'Equivalence'),\n",
              " 'was substituted': ('[VP]', 3.69468, 'ReverseEntailment')}"
            ]
          },
          "metadata": {
            "tags": []
          },
          "execution_count": 17
        }
      ]
    },
    {
      "cell_type": "code",
      "metadata": {
        "id": "xK4y7MQmIW9k",
        "colab_type": "code",
        "outputId": "e14f02be-c458-44b5-db52-949be4f221ad",
        "colab": {
          "base_uri": "https://localhost:8080/",
          "height": 119
        }
      },
      "source": [
        "sort_ppdb['replaced']"
      ],
      "execution_count": 0,
      "outputs": [
        {
          "output_type": "execute_result",
          "data": {
            "text/plain": [
              "['replace the words',\n",
              " 'was substituted',\n",
              " 'replace the word',\n",
              " 'substituted',\n",
              " 'superseded',\n",
              " 'replace']"
            ]
          },
          "metadata": {
            "tags": []
          },
          "execution_count": 18
        }
      ]
    },
    {
      "cell_type": "markdown",
      "metadata": {
        "id": "_IM9RyExD-lr",
        "colab_type": "text"
      },
      "source": [
        "## Fill to the descriptions"
      ]
    },
    {
      "cell_type": "markdown",
      "metadata": {
        "id": "ZWDlKSerElq1",
        "colab_type": "text"
      },
      "source": [
        "### Categorizing and Tagging Words"
      ]
    },
    {
      "cell_type": "code",
      "metadata": {
        "id": "PZxBobe9pGQA",
        "colab_type": "code",
        "outputId": "f7c14147-8097-48a0-821d-c062989e0313",
        "colab": {
          "base_uri": "https://localhost:8080/",
          "height": 119
        }
      },
      "source": [
        "import nltk\n",
        "nltk.download('averaged_perceptron_tagger')\n",
        "from nltk import word_tokenize\n",
        "nltk.download('punkt')"
      ],
      "execution_count": 0,
      "outputs": [
        {
          "output_type": "stream",
          "text": [
            "[nltk_data] Downloading package averaged_perceptron_tagger to\n",
            "[nltk_data]     /root/nltk_data...\n",
            "[nltk_data]   Unzipping taggers/averaged_perceptron_tagger.zip.\n",
            "[nltk_data] Downloading package punkt to /root/nltk_data...\n",
            "[nltk_data]   Unzipping tokenizers/punkt.zip.\n"
          ],
          "name": "stdout"
        },
        {
          "output_type": "execute_result",
          "data": {
            "text/plain": [
              "True"
            ]
          },
          "metadata": {
            "tags": []
          },
          "execution_count": 1
        }
      ]
    },
    {
      "cell_type": "code",
      "metadata": {
        "id": "mfdxgm1UNP2F",
        "colab_type": "code",
        "outputId": "b8669709-c524-43b3-b572-80b3291491d1",
        "colab": {
          "base_uri": "https://localhost:8080/",
          "height": 34
        }
      },
      "source": [
        "relation_description['chairperson']"
      ],
      "execution_count": 0,
      "outputs": [
        {
          "output_type": "execute_result",
          "data": {
            "text/plain": [
              "['OBJECT_ENTITY led SUBJECT_ENTITY\\n']"
            ]
          },
          "metadata": {
            "tags": []
          },
          "execution_count": 17
        }
      ]
    },
    {
      "cell_type": "code",
      "metadata": {
        "id": "grJwhV4SlWhT",
        "colab_type": "code",
        "outputId": "82219e84-033c-41b2-c050-b75875d5cc3e",
        "colab": {
          "base_uri": "https://localhost:8080/",
          "height": 170
        }
      },
      "source": [
        "des_token = word_tokenize('OBJECT_ENTITY is the kind of  occupation that SUBJECT_ENTITY has')\n",
        "nltk.pos_tag(des_token)"
      ],
      "execution_count": 0,
      "outputs": [
        {
          "output_type": "execute_result",
          "data": {
            "text/plain": [
              "[('OBJECT_ENTITY', 'NNP'),\n",
              " ('is', 'VBZ'),\n",
              " ('the', 'DT'),\n",
              " ('kind', 'NN'),\n",
              " ('of', 'IN'),\n",
              " ('occupation', 'NN'),\n",
              " ('that', 'IN'),\n",
              " ('SUBJECT_ENTITY', 'NNP'),\n",
              " ('has', 'VBZ')]"
            ]
          },
          "metadata": {
            "tags": []
          },
          "execution_count": 2
        }
      ]
    },
    {
      "cell_type": "code",
      "metadata": {
        "id": "X8KummD6R4ci",
        "colab_type": "code",
        "outputId": "47b0badc-6d8f-4318-f3ff-8f733f10a2f0",
        "colab": {
          "base_uri": "https://localhost:8080/",
          "height": 34
        }
      },
      "source": [
        "levenshtein('has', 'occupation')"
      ],
      "execution_count": 0,
      "outputs": [
        {
          "output_type": "execute_result",
          "data": {
            "text/plain": [
              "9.0"
            ]
          },
          "metadata": {
            "tags": []
          },
          "execution_count": 6
        }
      ]
    },
    {
      "cell_type": "code",
      "metadata": {
        "id": "hnWTjCAaoANQ",
        "colab_type": "code",
        "outputId": "81a824f6-d6eb-4177-8ec2-15d6b1be948a",
        "colab": {
          "base_uri": "https://localhost:8080/",
          "height": 34
        }
      },
      "source": [
        "des_token = word_tokenize('OBJECT_ENTITY led SUBJECT_ENTITY\\n')\n",
        "nltk.pos_tag(des_token)"
      ],
      "execution_count": 0,
      "outputs": [
        {
          "output_type": "execute_result",
          "data": {
            "text/plain": [
              "[('OBJECT_ENTITY', 'NNP'), ('led', 'VBD'), ('SUBJECT_ENTITY', 'NNP')]"
            ]
          },
          "metadata": {
            "tags": []
          },
          "execution_count": 21
        }
      ]
    },
    {
      "cell_type": "code",
      "metadata": {
        "id": "A3LWLzlLREmq",
        "colab_type": "code",
        "colab": {}
      },
      "source": [
        "# check POS\n",
        "for relation in relation_description:\n",
        "  for desc in relation_description[relation]:\n",
        "    des_token = word_tokenize(desc)\n",
        "    print(nltk.pos_tag(des_token))"
      ],
      "execution_count": 0,
      "outputs": []
    },
    {
      "cell_type": "markdown",
      "metadata": {
        "id": "tClfq4vaEv0Q",
        "colab_type": "text"
      },
      "source": [
        "### helper functions for extending descriptions"
      ]
    },
    {
      "cell_type": "code",
      "metadata": {
        "id": "U-TxhrNI5I49",
        "colab_type": "code",
        "colab": {}
      },
      "source": [
        "import numpy as np\n",
        "\n",
        "def levenshtein(seq1, seq2):  \n",
        "    size_x = len(seq1) + 1\n",
        "    size_y = len(seq2) + 1\n",
        "    matrix = np.zeros ((size_x, size_y))\n",
        "    for x in range(size_x):\n",
        "        matrix [x, 0] = x\n",
        "    for y in range(size_y):\n",
        "        matrix [0, y] = y\n",
        "\n",
        "    for x in range(1, size_x):\n",
        "        for y in range(1, size_y):\n",
        "            if seq1[x-1] == seq2[y-1]:\n",
        "                matrix [x,y] = min(\n",
        "                    matrix[x-1, y] + 1,\n",
        "                    matrix[x-1, y-1],\n",
        "                    matrix[x, y-1] + 1\n",
        "                )\n",
        "            else:\n",
        "                matrix [x,y] = min(\n",
        "                    matrix[x-1,y] + 1,\n",
        "                    matrix[x-1,y-1] + 1,\n",
        "                    matrix[x,y-1] + 1\n",
        "                )\n",
        "    return (matrix[size_x - 1, size_y - 1])\n",
        "\n",
        "\n",
        "def comp(a, key_word_set):\n",
        "  closest = float('inf')\n",
        "  for ele in key_word_set:\n",
        "    dist = levenshtein(ele, a)\n",
        "    if dist < closest:\n",
        "      closest = dist\n",
        "  return closest\n",
        "\n",
        "\n",
        "def collect_descriptions(relation_sk, desc):\n",
        "  \n",
        "  new_description_pool = []\n",
        "  \n",
        "  for des in desc:\n",
        "    \n",
        "    des_token = word_tokenize(des)\n",
        "    des_tag = nltk.pos_tag(des_token)\n",
        "    \n",
        "    nn = [wd for (wd, tag) in des_tag if tag in ['NN', 'NNS', 'VBN', 'VBD', 'VBZ', 'VBG', 'VBP', 'JJ'] and wd not in ['is', 'are', 'was', 'were']]\n",
        "    snn = sorted(nn, key=lambda x: comp(x, relation_sk)) # sorted list of NN word in description, order indicates the importance\n",
        "    for sk in relation_sk:\n",
        "      snn.insert(0, sk)\n",
        "    \n",
        "    current_key_pool = []\n",
        "    for key_word in snn:\n",
        "      if key_word in sort_ppdb:\n",
        "        kwd_pair = (key_word, sort_ppdb[key_word])\n",
        "        current_key_pool.append(kwd_pair)\n",
        "    \n",
        "    current_des_pool = []\n",
        "    for (kw, sort_nn_list) in current_key_pool:\n",
        "      for nn in sort_nn_list:\n",
        "        new_des = des.replace(kw, nn)\n",
        "        current_des_pool.append(new_des)\n",
        "    \n",
        "    new_description_pool.append(current_des_pool)\n",
        "    \n",
        "  result_desc = desc\n",
        "  visited_path = []\n",
        "  for extends_from_one_des in new_description_pool:\n",
        "    for one_extend in extends_from_one_des:\n",
        "      if one_extend not in visited_path and one_extend not in result_desc:\n",
        "        visited_path.append(one_extend)\n",
        "        result_desc.append(one_extend)\n",
        "      else:\n",
        "        continue\n",
        "      if len(result_desc) >= 50:\n",
        "        return result_desc\n",
        "  return result_desc"
      ],
      "execution_count": 0,
      "outputs": []
    },
    {
      "cell_type": "markdown",
      "metadata": {
        "id": "xoWx074sE5E1",
        "colab_type": "text"
      },
      "source": [
        "### First extend"
      ]
    },
    {
      "cell_type": "code",
      "metadata": {
        "id": "id7993ZSVR1R",
        "colab_type": "code",
        "colab": {}
      },
      "source": [
        "# define the not important part of relation\n",
        "description_debris = ['of', 'at', 'into', 'by', 'on', 'or', 'after', 'for']\n",
        "\n",
        "# target full descriptions\n",
        "full_relation_description = {}\n",
        "\n",
        "# for each relation, generating 50 descriptions\n",
        "for relation in relation_description:\n",
        "  desc = relation_description[relation].copy()\n",
        "  \n",
        "  # collecting the import keywords of each relation\n",
        "  relation_list = relation.split()\n",
        "  relation_sk = {relation} # a set of important keyword of this relation\n",
        "  \n",
        "  for de_wd in relation_list:\n",
        "    if de_wd not in description_debris:\n",
        "      relation_sk.add(de_wd)\n",
        "    else:\n",
        "      continue\n",
        "  \n",
        "  final_desc = collect_descriptions(relation_sk, desc)\n",
        "  full_relation_description[relation] = final_desc\n",
        "    "
      ],
      "execution_count": 0,
      "outputs": []
    },
    {
      "cell_type": "code",
      "metadata": {
        "id": "NE66eGz2xXAQ",
        "colab_type": "code",
        "outputId": "50e4590f-b331-432c-a9a7-83c5b0092f37",
        "colab": {
          "base_uri": "https://localhost:8080/",
          "height": 2057
        }
      },
      "source": [
        "less_than_5 = 0\n",
        "less_than_10 = 0\n",
        "for relation in relation_description:\n",
        "  desc = relation_description[relation]\n",
        "  desc_num = len(desc)\n",
        "  print(relation, desc_num)\n",
        "  if desc_num <= 10:\n",
        "    less_than_10 += 1\n",
        "    if desc_num <= 5:\n",
        "      less_than_5 += 1"
      ],
      "execution_count": 0,
      "outputs": [
        {
          "output_type": "stream",
          "text": [
            "airline hub 9\n",
            "architect 29\n",
            "architectural style 3\n",
            "author 28\n",
            "award received 5\n",
            "based on 2\n",
            "brother 2\n",
            "canonization status 1\n",
            "cast member 10\n",
            "cause of death 24\n",
            "chairperson 1\n",
            "characters 1\n",
            "child 2\n",
            "chromosome 12\n",
            "collection 1\n",
            "conferred by 1\n",
            "conflict 25\n",
            "connecting line 11\n",
            "constellation 23\n",
            "continent 18\n",
            "convicted of 3\n",
            "country 26\n",
            "country of citizenship 18\n",
            "country of origin 6\n",
            "creator 7\n",
            "crosses 4\n",
            "date of birth 9\n",
            "date of death 21\n",
            "date of official opening 14\n",
            "designer 10\n",
            "developer 9\n",
            "director 26\n",
            "discoverer or inventor 15\n",
            "dissolved or abolished 9\n",
            "distributor 20\n",
            "drafted by 7\n",
            "editor 4\n",
            "educated at 8\n",
            "employer 1\n",
            "end time 1\n",
            "father 14\n",
            "film editor 18\n",
            "founder 10\n",
            "found in taxon 3\n",
            "from fictional universe 12\n",
            "head of government 4\n",
            "headquarters location 6\n",
            "home venue 29\n",
            "illustrator 4\n",
            "inception 27\n",
            "industry 1\n",
            "instrumentation 15\n",
            "instrument 25\n",
            "IUCN conservation status 8\n",
            "language of work or name 9\n",
            "languages spoken or written 12\n",
            "league 8\n",
            "licensed to broadcast to 3\n",
            "license 1\n",
            "located in the administrative territorial entity 4\n",
            "located next to body of water 3\n",
            "located on astronomical body 9\n",
            "location of formation 7\n",
            "lyrics by 12\n",
            "manner of death 4\n",
            "manufacturer 15\n",
            "material used 2\n",
            "medical condition 18\n",
            "member of political party 7\n",
            "member of sports team 15\n",
            "military branch 26\n",
            "military rank 2\n",
            "mother 9\n",
            "mouth of the watercourse 10\n",
            "named after 4\n",
            "narrative location 2\n",
            "native language 12\n",
            "noble family 3\n",
            "noble title 2\n",
            "nominated for 2\n",
            "occupant 1\n",
            "occupation 3\n",
            "operating system 1\n",
            "original network 35\n",
            "parent company 3\n",
            "parent taxon 6\n",
            "participant of 9\n",
            "performer 29\n",
            "place of birth 14\n",
            "place of burial 12\n",
            "place of death 5\n",
            "point in time 12\n",
            "position held 3\n",
            "position played on team / speciality 29\n",
            "present in work 10\n",
            "production company 5\n",
            "product 6\n",
            "programming language 3\n",
            "publication date 31\n",
            "publisher 7\n",
            "record label 4\n",
            "religious order 2\n",
            "replaced by 3\n",
            "residence 2\n",
            "screenwriter 15\n",
            "series 15\n",
            "service entry 11\n",
            "sex or gender 24\n",
            "sister 2\n",
            "site of astronomical discovery 9\n",
            "sport 19\n",
            "spouse 1\n",
            "standards body 1\n",
            "start time 1\n",
            "stock exchange 9\n",
            "taxon rank 2\n",
            "time of discovery 20\n",
            "time of spacecraft launch 13\n",
            "vessel class 4\n",
            "voice type 8\n"
          ],
          "name": "stdout"
        }
      ]
    },
    {
      "cell_type": "code",
      "metadata": {
        "id": "XzL02hgP_ZHY",
        "colab_type": "code",
        "outputId": "c3c55aa3-85f7-419d-c6dd-756551151d91",
        "colab": {
          "base_uri": "https://localhost:8080/",
          "height": 34
        }
      },
      "source": [
        "less_than_5, less_than_10"
      ],
      "execution_count": 0,
      "outputs": [
        {
          "output_type": "execute_result",
          "data": {
            "text/plain": [
              "(49, 77)"
            ]
          },
          "metadata": {
            "tags": []
          },
          "execution_count": 26
        }
      ]
    },
    {
      "cell_type": "code",
      "metadata": {
        "id": "eiZBz3sBgoak",
        "colab_type": "code",
        "outputId": "eb87b0a2-adad-4190-fbbe-808ce8530750",
        "colab": {
          "base_uri": "https://localhost:8080/",
          "height": 153
        }
      },
      "source": [
        "for relation in full_relation_description:\n",
        "  desc = full_relation_description[relation]\n",
        "  desc_num = len(desc)\n",
        "  if desc_num < 15:\n",
        "    print(relation, desc_num)"
      ],
      "execution_count": 0,
      "outputs": [
        {
          "output_type": "stream",
          "text": [
            "based on 11\n",
            "chairperson 3\n",
            "crosses 13\n",
            "industry 2\n",
            "license 6\n",
            "residence 8\n",
            "spouse 13\n",
            "taxon rank 14\n"
          ],
          "name": "stdout"
        }
      ]
    },
    {
      "cell_type": "markdown",
      "metadata": {
        "id": "r-iRXNn8FHSy",
        "colab_type": "text"
      },
      "source": [
        "### Second extend"
      ]
    },
    {
      "cell_type": "code",
      "metadata": {
        "id": "nubZYYpUxW7C",
        "colab_type": "code",
        "colab": {}
      },
      "source": [
        "# mannually add those relations with less than 15 description after expend (造句)\n",
        "mannual_relation_description = relation_description.copy()\n",
        "\n",
        "# based on\n",
        "desc = mannual_relation_description['based on'] # copy by reference\n",
        "desc.append('The SUBJECT_ENTITY is based on OBJECT_ENTITY\\n')\n",
        "\n",
        "# chairperson, The original one is wrong\n",
        "mannual_relation_description['chairperson'] = ['SUBJECT_ENTITY led OBJECT_ENTITY\\n'] # original: 'OBJECT_ENTITY led SUBJECT_ENTITY\\n'\n",
        "desc = mannual_relation_description['chairperson']\n",
        "desc.append('The SUBJECT_ENTITY is the chairperson of OBJECT_ENTITY\\n')\n",
        "desc.append('The SUBJECT_ENTITY is the leader of OBJECT_ENTITY\\n')\n",
        "desc.append('The SUBJECT_ENTITY is leading OBJECT_ENTITY\\n')\n",
        "\n",
        "# characters\n",
        "desc = mannual_relation_description['characters']\n",
        "desc.append('The SUBJECT_ENTITY has OBJECT_ENTITY property\\n')\n",
        "\n",
        "# conferred by\n",
        "desc = mannual_relation_description['conferred by']\n",
        "desc.append('SUBJECT_ENTITY is conferred by OBJECT_ENTITY\\n')\n",
        "desc.append('OBJECT_ENTITY grant SUBJECT_ENTITY\\n')\n",
        "\n",
        "# crosses\n",
        "desc = mannual_relation_description['crosses']\n",
        "desc.append('SUBJECT_ENTITY travel across the river OBJECT_ENTITY\\n')\n",
        "desc.append('SUBJECT_ENTITY pass over OBJECT_ENTITY\\n')\n",
        "\n",
        "# industry\n",
        "desc = mannual_relation_description['industry']\n",
        "desc.append('SUBJECT_ENTITY is associated with OBJECT_ENTITY economic field\\n')\n",
        "desc.append('SUBJECT_ENTITY is associated with OBJECT_ENTITY branch\\n')\n",
        "\n",
        "# license\n",
        "desc = mannual_relation_description['license']\n",
        "desc.append('OBJECT_ENTITY is the certificate of SUBJECT_ENTITY\\n')\n",
        "desc.append('OBJECT_ENTITY is the permit of SUBJECT_ENTITY\\n')\n",
        "\n",
        "# occupant\n",
        "desc = mannual_relation_description['occupant']\n",
        "desc.append('OBJECT_ENTITY is the occupant of SUBJECT_ENTITY\\n')\n",
        "desc.append('OBJECT_ENTITY is the occupier of SUBJECT_ENTITY\\n')\n",
        "desc.append('OBJECT_ENTITY is the occupied by SUBJECT_ENTITY\\n')\n",
        "desc.append('SUBJECT_ENTITY occupy OBJECT_ENTITY\\n')\n",
        "\n",
        "# residence\n",
        "desc = mannual_relation_description['residence']\n",
        "desc.append('SUBJECT_ENTITY is resident in OBJECT_ENTITY\\n')\n",
        "desc.append('SUBJECT_ENTITY is located in OBJECT_ENTITY\\n')\n",
        "\n",
        "# spouse\n",
        "desc = mannual_relation_description['spouse']\n",
        "desc.append('SUBJECT_ENTITY is the consort of OBJECT_ENTITY\\n')\n",
        "desc.append('SUBJECT_ENTITY is the husband of OBJECT_ENTITY\\n')\n",
        "desc.append('SUBJECT_ENTITY is the wife of OBJECT_ENTITY\\n')\n",
        "\n",
        "#taxon rank\n",
        "desc = mannual_relation_description['taxon rank']\n",
        "desc.append('SUBJECT_ENTITY is the taxonomic rank of OBJECT_ENTITY\\n')\n"
      ],
      "execution_count": 0,
      "outputs": []
    },
    {
      "cell_type": "code",
      "metadata": {
        "id": "CESV8DZIxW4n",
        "colab_type": "code",
        "colab": {}
      },
      "source": [
        "manual_full_relation_description = {}\n",
        "\n",
        "for relation in mannual_relation_description:\n",
        "  desc = mannual_relation_description[relation].copy()\n",
        "  \n",
        "  # collecting the import keywords of each relation\n",
        "  relation_list = relation.split()\n",
        "  relation_sk = {relation} # a set of important keyword of this relation\n",
        "  \n",
        "  for de_wd in relation_list:\n",
        "    if de_wd not in description_debris:\n",
        "      relation_sk.add(de_wd)\n",
        "    else:\n",
        "      continue\n",
        "  \n",
        "  final_desc = collect_descriptions(relation_sk, desc)\n",
        "  manual_full_relation_description[relation] = final_desc\n",
        "    "
      ],
      "execution_count": 0,
      "outputs": []
    },
    {
      "cell_type": "code",
      "metadata": {
        "id": "L9myl9IBhm04",
        "colab_type": "code",
        "outputId": "d3027701-836f-4928-ecce-490a34bc196b",
        "colab": {
          "base_uri": "https://localhost:8080/",
          "height": 2057
        }
      },
      "source": [
        "for relation in manual_full_relation_description:\n",
        "  desc = manual_full_relation_description[relation]\n",
        "  desc_num = len(desc)\n",
        "  print(relation, desc_num)"
      ],
      "execution_count": 0,
      "outputs": [
        {
          "output_type": "stream",
          "text": [
            "airline hub 50\n",
            "architect 50\n",
            "architectural style 27\n",
            "author 50\n",
            "award received 50\n",
            "based on 50\n",
            "brother 28\n",
            "canonization status 22\n",
            "cast member 50\n",
            "cause of death 50\n",
            "chairperson 21\n",
            "characters 28\n",
            "child 50\n",
            "chromosome 50\n",
            "collection 30\n",
            "conferred by 29\n",
            "conflict 50\n",
            "connecting line 50\n",
            "constellation 50\n",
            "continent 50\n",
            "convicted of 50\n",
            "country 50\n",
            "country of citizenship 50\n",
            "country of origin 50\n",
            "creator 50\n",
            "crosses 28\n",
            "date of birth 50\n",
            "date of death 50\n",
            "date of official opening 50\n",
            "designer 50\n",
            "developer 50\n",
            "director 50\n",
            "discoverer or inventor 50\n",
            "dissolved or abolished 50\n",
            "distributor 50\n",
            "drafted by 50\n",
            "editor 36\n",
            "educated at 50\n",
            "employer 25\n",
            "end time 35\n",
            "father 50\n",
            "film editor 50\n",
            "founder 50\n",
            "found in taxon 50\n",
            "from fictional universe 50\n",
            "head of government 50\n",
            "headquarters location 50\n",
            "home venue 50\n",
            "illustrator 50\n",
            "inception 50\n",
            "industry 16\n",
            "instrumentation 50\n",
            "instrument 50\n",
            "IUCN conservation status 50\n",
            "language of work or name 50\n",
            "languages spoken or written 50\n",
            "league 50\n",
            "licensed to broadcast to 46\n",
            "license 22\n",
            "located in the administrative territorial entity 50\n",
            "located next to body of water 50\n",
            "located on astronomical body 50\n",
            "location of formation 50\n",
            "lyrics by 50\n",
            "manner of death 50\n",
            "manufacturer 50\n",
            "material used 32\n",
            "medical condition 50\n",
            "member of political party 50\n",
            "member of sports team 50\n",
            "military branch 50\n",
            "military rank 50\n",
            "mother 50\n",
            "mouth of the watercourse 50\n",
            "named after 26\n",
            "narrative location 27\n",
            "native language 50\n",
            "noble family 50\n",
            "noble title 50\n",
            "nominated for 21\n",
            "occupant 34\n",
            "occupation 31\n",
            "operating system 36\n",
            "original network 50\n",
            "parent company 49\n",
            "parent taxon 50\n",
            "participant of 50\n",
            "performer 50\n",
            "place of birth 50\n",
            "place of burial 50\n",
            "place of death 50\n",
            "point in time 50\n",
            "position held 50\n",
            "position played on team / speciality 50\n",
            "present in work 50\n",
            "production company 50\n",
            "product 50\n",
            "programming language 50\n",
            "publication date 50\n",
            "publisher 50\n",
            "record label 50\n",
            "religious order 50\n",
            "replaced by 47\n",
            "residence 24\n",
            "screenwriter 50\n",
            "series 50\n",
            "service entry 50\n",
            "sex or gender 50\n",
            "sister 24\n",
            "site of astronomical discovery 50\n",
            "sport 50\n",
            "spouse 21\n",
            "standards body 47\n",
            "start time 50\n",
            "stock exchange 50\n",
            "taxon rank 21\n",
            "time of discovery 50\n",
            "time of spacecraft launch 50\n",
            "vessel class 50\n",
            "voice type 50\n"
          ],
          "name": "stdout"
        }
      ]
    },
    {
      "cell_type": "markdown",
      "metadata": {
        "id": "_EnI5xiLFM5t",
        "colab_type": "text"
      },
      "source": [
        "### export file"
      ]
    },
    {
      "cell_type": "code",
      "metadata": {
        "id": "zK5F0q_FpLhw",
        "colab_type": "code",
        "colab": {}
      },
      "source": [
        "with open('extended_relation_descriptions.json', 'w') as f:\n",
        "  json.dump(manual_full_relation_description,f)"
      ],
      "execution_count": 0,
      "outputs": []
    },
    {
      "cell_type": "code",
      "metadata": {
        "id": "YsCoPXfR3E3S",
        "colab_type": "code",
        "outputId": "e1a8448b-155e-4e3c-d136-ac61d402ef7e",
        "colab": {
          "base_uri": "https://localhost:8080/",
          "height": 867
        }
      },
      "source": [
        "manual_full_relation_description['based on']"
      ],
      "execution_count": 0,
      "outputs": [
        {
          "output_type": "execute_result",
          "data": {
            "text/plain": [
              "['The SUBJECT_ENTITY is based upon OBJECT_ENTITY\\n',\n",
              " 'OBJECT_ENTITY is the basis of SUBJECT_ENTITY\\n',\n",
              " 'The SUBJECT_ENTITY is based on OBJECT_ENTITY\\n',\n",
              " 'The SUBJECT_ENTITY is -based upon OBJECT_ENTITY\\n',\n",
              " 'The SUBJECT_ENTITY is basis upon OBJECT_ENTITY\\n',\n",
              " 'The SUBJECT_ENTITY is base upon OBJECT_ENTITY\\n',\n",
              " 'The SUBJECT_ENTITY is bases upon OBJECT_ENTITY\\n',\n",
              " 'OBJECT_ENTITY is the working basis of SUBJECT_ENTITY\\n',\n",
              " 'OBJECT_ENTITY is the foundations of SUBJECT_ENTITY\\n',\n",
              " 'OBJECT_ENTITY is the based of SUBJECT_ENTITY\\n',\n",
              " 'OBJECT_ENTITY is the bases of SUBJECT_ENTITY\\n',\n",
              " 'OBJECT_ENTITY is the base of SUBJECT_ENTITY\\n',\n",
              " 'The SUBJECT_ENTITY is -based on OBJECT_ENTITY\\n',\n",
              " 'The SUBJECT_ENTITY is basis on OBJECT_ENTITY\\n',\n",
              " 'The SUBJECT_ENTITY is base on OBJECT_ENTITY\\n',\n",
              " 'The SUBJECT_ENTITY is bases on OBJECT_ENTITY\\n',\n",
              " 'The SUBJECT_ENTITY is based on the fact OBJECT_ENTITY\\n',\n",
              " 'The SUBJECT_ENTITY is 1 based on OBJECT_ENTITY\\n',\n",
              " 'The SUBJECT_ENTITY is , and on the basis of OBJECT_ENTITY\\n',\n",
              " 'The SUBJECT_ENTITY is , on the basis of the OBJECT_ENTITY\\n',\n",
              " 'The SUBJECT_ENTITY is based on such OBJECT_ENTITY\\n',\n",
              " 'The SUBJECT_ENTITY is the basis of the OBJECT_ENTITY\\n',\n",
              " 'The SUBJECT_ENTITY is , on the basis of OBJECT_ENTITY\\n',\n",
              " 'The SUBJECT_ENTITY is on the basis of an OBJECT_ENTITY\\n',\n",
              " 'The SUBJECT_ENTITY is and on the basis of the OBJECT_ENTITY\\n',\n",
              " 'The SUBJECT_ENTITY is based on sound OBJECT_ENTITY\\n',\n",
              " 'The SUBJECT_ENTITY is been prepared on the basis of OBJECT_ENTITY\\n',\n",
              " 'The SUBJECT_ENTITY is are dependent on OBJECT_ENTITY\\n',\n",
              " 'The SUBJECT_ENTITY is and on the basis of OBJECT_ENTITY\\n',\n",
              " 'The SUBJECT_ENTITY is on the basis of a OBJECT_ENTITY\\n',\n",
              " 'The SUBJECT_ENTITY is is on the basis of OBJECT_ENTITY\\n',\n",
              " 'The SUBJECT_ENTITY is the basis of a OBJECT_ENTITY\\n',\n",
              " 'The SUBJECT_ENTITY is prepared on the basis of OBJECT_ENTITY\\n',\n",
              " 'The SUBJECT_ENTITY is it is on the basis of OBJECT_ENTITY\\n',\n",
              " 'The SUBJECT_ENTITY is is dependent upon OBJECT_ENTITY\\n',\n",
              " 'The SUBJECT_ENTITY is on the basis of the OBJECT_ENTITY\\n',\n",
              " 'The SUBJECT_ENTITY is out on the basis of OBJECT_ENTITY\\n',\n",
              " 'The SUBJECT_ENTITY is be calculated on OBJECT_ENTITY\\n',\n",
              " 'The SUBJECT_ENTITY is been calculated on OBJECT_ENTITY\\n',\n",
              " 'The SUBJECT_ENTITY is be built on OBJECT_ENTITY\\n',\n",
              " 'The SUBJECT_ENTITY is is built on OBJECT_ENTITY\\n',\n",
              " 'The SUBJECT_ENTITY is was built on OBJECT_ENTITY\\n',\n",
              " 'The SUBJECT_ENTITY is are built on OBJECT_ENTITY\\n',\n",
              " 'The SUBJECT_ENTITY is prepared based on OBJECT_ENTITY\\n',\n",
              " 'The SUBJECT_ENTITY is is focused on OBJECT_ENTITY\\n',\n",
              " 'The SUBJECT_ENTITY is is built upon OBJECT_ENTITY\\n',\n",
              " 'The SUBJECT_ENTITY is are compiled based on OBJECT_ENTITY\\n',\n",
              " 'The SUBJECT_ENTITY is on the basis of its OBJECT_ENTITY\\n',\n",
              " 'The SUBJECT_ENTITY is is predicated on OBJECT_ENTITY\\n',\n",
              " 'The SUBJECT_ENTITY is a basis of OBJECT_ENTITY\\n']"
            ]
          },
          "metadata": {
            "tags": []
          },
          "execution_count": 41
        }
      ]
    },
    {
      "cell_type": "code",
      "metadata": {
        "id": "Ey3J-608Acn0",
        "colab_type": "code",
        "outputId": "b28aa132-c060-48f2-aa93-51fdbe42b2a8",
        "colab": {
          "base_uri": "https://localhost:8080/",
          "height": 34
        }
      },
      "source": [
        "levenshtein('employer', 'employment'), levenshtein('employer', 'place')"
      ],
      "execution_count": 0,
      "outputs": [
        {
          "output_type": "execute_result",
          "data": {
            "text/plain": [
              "(3.0, 5.0)"
            ]
          },
          "metadata": {
            "tags": []
          },
          "execution_count": 35
        }
      ]
    },
    {
      "cell_type": "code",
      "metadata": {
        "id": "Bolhy8DAJY-H",
        "colab_type": "code",
        "outputId": "f5fac450-2091-4a37-9294-8d3eb49f7190",
        "colab": {
          "base_uri": "https://localhost:8080/",
          "height": 68
        }
      },
      "source": [
        "relation_description['based on']"
      ],
      "execution_count": 0,
      "outputs": [
        {
          "output_type": "execute_result",
          "data": {
            "text/plain": [
              "['The SUBJECT_ENTITY is based upon OBJECT_ENTITY\\n',\n",
              " 'OBJECT_ENTITY is the basis of SUBJECT_ENTITY\\n',\n",
              " 'The SUBJECT_ENTITY is based on OBJECT_ENTITY\\n']"
            ]
          },
          "metadata": {
            "tags": []
          },
          "execution_count": 42
        }
      ]
    },
    {
      "cell_type": "code",
      "metadata": {
        "id": "znMxmL0GChHE",
        "colab_type": "code",
        "outputId": "607ddbbc-e18d-4519-8458-a93225424f2a",
        "colab": {
          "base_uri": "https://localhost:8080/",
          "height": 153
        }
      },
      "source": [
        "des_token = word_tokenize(relation_description['cause of death'][0])\n",
        "nltk.pos_tag(des_token)"
      ],
      "execution_count": 0,
      "outputs": [
        {
          "output_type": "execute_result",
          "data": {
            "text/plain": [
              "[('OBJECT_ENTITY', 'NNP'),\n",
              " ('was', 'VBD'),\n",
              " ('the', 'DT'),\n",
              " ('disease', 'NN'),\n",
              " ('from', 'IN'),\n",
              " ('which', 'WDT'),\n",
              " ('SUBJECT_ENTITY', 'NNP'),\n",
              " ('died', 'VBD')]"
            ]
          },
          "metadata": {
            "tags": []
          },
          "execution_count": 44
        }
      ]
    },
    {
      "cell_type": "code",
      "metadata": {
        "id": "O4IBiL2KJd9n",
        "colab_type": "code",
        "outputId": "038758c6-454a-4021-9abb-2fb7849083d6",
        "colab": {
          "base_uri": "https://localhost:8080/",
          "height": 34
        }
      },
      "source": [
        "sort_ppdb['employer']"
      ],
      "execution_count": 0,
      "outputs": [
        {
          "output_type": "execute_result",
          "data": {
            "text/plain": [
              "[\"employer 's\", 'employers']"
            ]
          },
          "metadata": {
            "tags": []
          },
          "execution_count": 37
        }
      ]
    },
    {
      "cell_type": "code",
      "metadata": {
        "id": "pB1y8iKGv4l6",
        "colab_type": "code",
        "outputId": "5891175f-f4a3-4ae2-e8e1-706cba5b0d1c",
        "colab": {
          "base_uri": "https://localhost:8080/",
          "height": 238
        }
      },
      "source": [
        "sort_ppdb['employment']"
      ],
      "execution_count": 0,
      "outputs": [
        {
          "output_type": "execute_result",
          "data": {
            "text/plain": [
              "['finding employment',\n",
              " 'matters of employment',\n",
              " 'obtaining employment',\n",
              " 'their employment opportunities',\n",
              " 'seeking employment',\n",
              " 'the employment of children',\n",
              " 'the employment opportunities',\n",
              " 'terms of employment',\n",
              " 'promoting employment',\n",
              " 'jobs',\n",
              " 'job',\n",
              " 'reemployment',\n",
              " 're-employment']"
            ]
          },
          "metadata": {
            "tags": []
          },
          "execution_count": 38
        }
      ]
    },
    {
      "cell_type": "code",
      "metadata": {
        "id": "bF-O3dMdv8Pc",
        "colab_type": "code",
        "outputId": "e4cd592b-02d9-4426-e88e-2d9d2f3d02c1",
        "colab": {
          "base_uri": "https://localhost:8080/",
          "height": 204
        }
      },
      "source": [
        "sort_ppdb['place']"
      ],
      "execution_count": 0,
      "outputs": [
        {
          "output_type": "execute_result",
          "data": {
            "text/plain": [
              "['such places',\n",
              " 'different places',\n",
              " 'placements',\n",
              " 'workplaces',\n",
              " 'areas',\n",
              " 'localities',\n",
              " 'location',\n",
              " 'locations',\n",
              " 'sites',\n",
              " 'placing',\n",
              " 'someplace']"
            ]
          },
          "metadata": {
            "tags": []
          },
          "execution_count": 40
        }
      ]
    },
    {
      "cell_type": "code",
      "metadata": {
        "id": "QzBPapPsv-si",
        "colab_type": "code",
        "colab": {}
      },
      "source": [
        ""
      ],
      "execution_count": 0,
      "outputs": []
    }
  ]
}